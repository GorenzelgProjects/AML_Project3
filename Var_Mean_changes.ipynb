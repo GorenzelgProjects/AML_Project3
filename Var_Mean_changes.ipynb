{
 "cells": [
  {
   "cell_type": "code",
   "execution_count": 2,
   "metadata": {},
   "outputs": [],
   "source": [
    "import numpy as np\n",
    "import pandas as pd\n",
    "import matplotlib.pyplot as plt\n",
    "import matplotlib.patches as mpl_patches\n",
    "import seaborn as sns\n",
    "%matplotlib inline\n",
    "sns.set()"
   ]
  },
  {
   "cell_type": "code",
   "execution_count": 3,
   "metadata": {},
   "outputs": [],
   "source": [
    "data_100 = pd.read_csv(\"data_780.csv\")\n",
    "data_100_A_2 = pd.read_csv(\"data_784.csv\")\n",
    "data_100_B_2 = pd.read_csv(\"data_787.csv\")\n",
    "data_100_F_2 = pd.read_csv(\"data_788.csv\")\n",
    "data_100_C_2 = pd.read_csv(\"data_797.csv\")\n",
    "data_100_D_2 = pd.read_csv(\"data_801.csv\")\n",
    "data_100_E_2 = pd.read_csv(\"data_802.csv\")\n",
    "data_100_H_2 = pd.read_csv(\"data_791.csv\")"
   ]
  },
  {
   "cell_type": "code",
   "execution_count": 4,
   "metadata": {},
   "outputs": [
    {
     "name": "stdout",
     "output_type": "stream",
     "text": [
      "[ 0.  1.  2.  3.  4.  5.  6.  7.  8.  9. 10. 11. 12. 13. 14. 15. 16. 17.\n",
      " 18. 19. 20. 21. 22. 23. 24. 25. 26. 27. 28. 29. 30. 31. 32. 33. 34. 35.\n",
      " 36. 37. 38. 39. 40. 41. 42. 43. 44. 45. 46. 47. 48. 49. 50. 51. 52. 53.\n",
      " 54. 55. 56. 57. 58. 59. 60. 61. 62. 63. 64. 65. 66. 67. 68. 69. 70. 71.\n",
      " 72. 73. 74. 75. 76. 77. 78. 79. 80. 81. 82. 83. 84. 85. 86. 87. 88. 89.\n",
      " 90. 91. 92. 93. 94. 95. 96. 97. 98. 99.]\n"
     ]
    }
   ],
   "source": [
    "data_100 = np.asarray(data_100)\n",
    "data_100_A_2 = np.asarray(data_100_A_2)\n",
    "data_100_B_2 = np.asarray(data_100_B_2)\n",
    "data_100_F_2 = np.asarray(data_100_F_2)\n",
    "data_100_C_2 = np.asarray(data_100_C_2)\n",
    "data_100_D_2 = np.asarray(data_100_D_2)\n",
    "data_100_E_2 = np.asarray(data_100_E_2)\n",
    "data_100_H_2 = np.asarray(data_100_H_2)\n",
    "List = [data_100_A_2,data_100_B_2,data_100_C_2,data_100_D_2,data_100_E_2,data_100_F_2,data_100_H_2]\n",
    "print(List[1][:,0])"
   ]
  },
  {
   "cell_type": "code",
   "execution_count": 5,
   "metadata": {},
   "outputs": [
    {
     "name": "stdout",
     "output_type": "stream",
     "text": [
      "2.669444705424544\n"
     ]
    }
   ],
   "source": [
    "first_row = ['intervene A','intervene B','intervene C','intervene D','intervene E','intervene F','intervene H']\n",
    "first_col = [['','No difference','difference of A','difference of  B','difference of  C','difference of  D','difference of  E','difference of  F']]\n",
    "first_col = np.transpose(first_col)\n",
    "#first_col = np.reshape(first_col,(1,7))\n",
    "print(data_100[:,1].var())\n",
    "var_diff = np.zeros((7,7))\n",
    "for i in range(7):\n",
    "    for j in range(7):\n",
    "        var_diff[i,j] = List[i][:,j].var()- data_100[:,j].var() \n",
    "#var_diff =np.vstack((first_row,var_diff))\n",
    "#var_diff =np.hstack((first_col,var_diff))\n"
   ]
  },
  {
   "cell_type": "code",
   "execution_count": 6,
   "metadata": {},
   "outputs": [
    {
     "data": {
      "image/png": "[encoded data removed]",
      "text/plain": [
       "<Figure size 640x480 with 2 Axes>"
      ]
     },
     "metadata": {},
     "output_type": "display_data"
    }
   ],
   "source": [
    "ax = sns.heatmap( var_diff , cmap = 'autumn' )\n",
    "plt.title( \"2-D Heat Map\" )\n",
    "plt.xlabel('x-axis')\n",
    "plt.ylabel('y-axis')\n",
    "\n",
    "# Displaying the plot\n",
    "plt.show()"
   ]
  },
  {
   "cell_type": "code",
   "execution_count": 7,
   "metadata": {},
   "outputs": [
    {
     "name": "stdout",
     "output_type": "stream",
     "text": [
      "2.669444705424544\n",
      "             difference of A  difference of  B  difference of  C  \\\n",
      "intervene A        -2.669445          1.659378         -0.795307   \n",
      "intervene B        -0.232858         -1.439211         -0.531481   \n",
      "intervene C        -1.903300          0.818894         -2.654148   \n",
      "intervene D         0.986250          1.148536         -0.189326   \n",
      "intervene E        -0.053206          0.833287         -0.808206   \n",
      "intervene F         0.165781          0.227382         -0.353342   \n",
      "intervene H        -0.043740         -0.348915         -0.674187   \n",
      "\n",
      "             difference of  D  difference of  E  difference of  F  \n",
      "intervene A         -0.800844         -1.255845         -0.180287  \n",
      "intervene B         -0.428533         -1.950081         -0.011564  \n",
      "intervene C         -0.196492         -2.423446          0.019843  \n",
      "intervene D         -2.405173         -0.645384         -0.493058  \n",
      "intervene E         -0.790417         -4.615084         -0.192387  \n",
      "intervene F         -0.132833         -1.039092         -0.763240  \n",
      "intervene H         -1.001090         -1.316746         -0.217439  \n"
     ]
    }
   ],
   "source": [
    "first_row = ['intervene A','intervene B','intervene C','intervene D','intervene E','intervene F','intervene H']\n",
    "first_col = ['difference of A','difference of  B','difference of  C','difference of  D','difference of  E','difference of  F']\n",
    "first_col = np.transpose(first_col)\n",
    "#first_col = np.reshape(first_col,(1,7))\n",
    "print(data_100[:,1].var())\n",
    "var_diff = np.zeros((7,7))\n",
    "for i in range(7):\n",
    "    for j in range(7):\n",
    "        var_diff[i,j] = List[i][:,j].var()- data_100[:,j].var() \n",
    "var_diff = var_diff[:,1:]\n",
    "#var_diff =np.vstack((first_row,var_diff))\n",
    "#var_diff =np.hstack((first_col,var_diff))\n",
    "df = pd.DataFrame(var_diff,columns=first_col,index=first_row)\n",
    "print(df)"
   ]
  },
  {
   "cell_type": "code",
   "execution_count": 18,
   "metadata": {},
   "outputs": [
    {
     "name": "stdout",
     "output_type": "stream",
     "text": [
      "1.7360835778141526\n",
      "             difference of A  difference of  B  difference of  C  \\\n",
      "intervene A         0.263916         -0.521779          0.262523   \n",
      "intervene B         0.075021          1.380744          0.268383   \n",
      "intervene C         0.955662         -0.688666          1.046542   \n",
      "intervene D         0.161059         -0.579299          0.395726   \n",
      "intervene E        -0.290949         -0.448256         -0.166031   \n",
      "intervene F        -0.244120         -0.191632          0.004205   \n",
      "intervene H         0.012756          0.866621          0.174737   \n",
      "\n",
      "             difference of  D  difference of  E  difference of  F  \n",
      "intervene A          0.409357         -0.529551          0.095961  \n",
      "intervene B         -0.126136         -0.034100         -0.089835  \n",
      "intervene C         -0.023289         -1.229884         -0.171948  \n",
      "intervene D          2.662421         -0.635230         -0.737140  \n",
      "intervene E          1.282188          2.864412          0.113475  \n",
      "intervene F          0.015270         -0.013991          2.172553  \n",
      "intervene H         -1.403565         -0.127557         -0.468865  \n"
     ]
    }
   ],
   "source": [
    "first_row = ['intervene A','intervene B','intervene C','intervene D','intervene E','intervene F','intervene H']\n",
    "first_col = ['difference of A','difference of  B','difference of  C','difference of  D','difference of  E','difference of  F']\n",
    "first_col = np.transpose(first_col)\n",
    "#first_col = np.reshape(first_col,(1,7))\n",
    "print(data_100[:,1].mean())\n",
    "var_diff = np.zeros((7,7))\n",
    "for i in range(7):\n",
    "    for j in range(7):\n",
    "        var_diff[i,j] = List[i][:,j].mean()- data_100[:,j].mean() \n",
    "var_diff = var_diff[:,1:]\n",
    "#var_diff =np.vstack((first_row,var_diff))\n",
    "#var_diff =np.hstack((first_col,var_diff))\n",
    "df = pd.DataFrame(var_diff,columns=first_col,index=first_row)\n"
   ]
  },
  {
   "cell_type": "code",
   "execution_count": 17,
   "metadata": {},
   "outputs": [
    {
     "ename": "InvalidIndexError",
     "evalue": "(slice(None, None, None), 2)",
     "output_type": "error",
     "traceback": [
      "\u001b[1;31m---------------------------------------------------------------------------\u001b[0m",
      "\u001b[1;31mTypeError\u001b[0m                                 Traceback (most recent call last)",
      "File \u001b[1;32mc:\\Users\\Mikkel Groengaard\\anaconda3\\envs\\chatbot\\lib\\site-packages\\pandas\\core\\indexes\\base.py:3803\u001b[0m, in \u001b[0;36mIndex.get_loc\u001b[1;34m(self, key, method, tolerance)\u001b[0m\n\u001b[0;32m   3802\u001b[0m \u001b[39mtry\u001b[39;00m:\n\u001b[1;32m-> 3803\u001b[0m     \u001b[39mreturn\u001b[39;00m \u001b[39mself\u001b[39;49m\u001b[39m.\u001b[39;49m_engine\u001b[39m.\u001b[39;49mget_loc(casted_key)\n\u001b[0;32m   3804\u001b[0m \u001b[39mexcept\u001b[39;00m \u001b[39mKeyError\u001b[39;00m \u001b[39mas\u001b[39;00m err:\n",
      "File \u001b[1;32mc:\\Users\\Mikkel Groengaard\\anaconda3\\envs\\chatbot\\lib\\site-packages\\pandas\\_libs\\index.pyx:138\u001b[0m, in \u001b[0;36mpandas._libs.index.IndexEngine.get_loc\u001b[1;34m()\u001b[0m\n",
      "File \u001b[1;32mc:\\Users\\Mikkel Groengaard\\anaconda3\\envs\\chatbot\\lib\\site-packages\\pandas\\_libs\\index.pyx:144\u001b[0m, in \u001b[0;36mpandas._libs.index.IndexEngine.get_loc\u001b[1;34m()\u001b[0m\n",
      "\u001b[1;31mTypeError\u001b[0m: '(slice(None, None, None), 2)' is an invalid key",
      "\nDuring handling of the above exception, another exception occurred:\n",
      "\u001b[1;31mInvalidIndexError\u001b[0m                         Traceback (most recent call last)",
      "Cell \u001b[1;32mIn[17], line 3\u001b[0m\n\u001b[0;32m      1\u001b[0m \u001b[39m#print(data_100_A_2[:,2].var()-data_100[:,2].var())\u001b[39;00m\n\u001b[1;32m----> 3\u001b[0m \u001b[39mprint\u001b[39m(data_100_A_2[:,\u001b[39m2\u001b[39;49m]\u001b[39m.\u001b[39mvar())\n\u001b[0;32m      4\u001b[0m \u001b[39mprint\u001b[39m(data_100_A_2[:,\u001b[39m2\u001b[39m])\n",
      "File \u001b[1;32mc:\\Users\\Mikkel Groengaard\\anaconda3\\envs\\chatbot\\lib\\site-packages\\pandas\\core\\frame.py:3804\u001b[0m, in \u001b[0;36mDataFrame.__getitem__\u001b[1;34m(self, key)\u001b[0m\n\u001b[0;32m   3802\u001b[0m \u001b[39mif\u001b[39;00m \u001b[39mself\u001b[39m\u001b[39m.\u001b[39mcolumns\u001b[39m.\u001b[39mnlevels \u001b[39m>\u001b[39m \u001b[39m1\u001b[39m:\n\u001b[0;32m   3803\u001b[0m     \u001b[39mreturn\u001b[39;00m \u001b[39mself\u001b[39m\u001b[39m.\u001b[39m_getitem_multilevel(key)\n\u001b[1;32m-> 3804\u001b[0m indexer \u001b[39m=\u001b[39m \u001b[39mself\u001b[39;49m\u001b[39m.\u001b[39;49mcolumns\u001b[39m.\u001b[39;49mget_loc(key)\n\u001b[0;32m   3805\u001b[0m \u001b[39mif\u001b[39;00m is_integer(indexer):\n\u001b[0;32m   3806\u001b[0m     indexer \u001b[39m=\u001b[39m [indexer]\n",
      "File \u001b[1;32mc:\\Users\\Mikkel Groengaard\\anaconda3\\envs\\chatbot\\lib\\site-packages\\pandas\\core\\indexes\\base.py:3810\u001b[0m, in \u001b[0;36mIndex.get_loc\u001b[1;34m(self, key, method, tolerance)\u001b[0m\n\u001b[0;32m   3805\u001b[0m         \u001b[39mraise\u001b[39;00m \u001b[39mKeyError\u001b[39;00m(key) \u001b[39mfrom\u001b[39;00m \u001b[39merr\u001b[39;00m\n\u001b[0;32m   3806\u001b[0m     \u001b[39mexcept\u001b[39;00m \u001b[39mTypeError\u001b[39;00m:\n\u001b[0;32m   3807\u001b[0m         \u001b[39m# If we have a listlike key, _check_indexing_error will raise\u001b[39;00m\n\u001b[0;32m   3808\u001b[0m         \u001b[39m#  InvalidIndexError. Otherwise we fall through and re-raise\u001b[39;00m\n\u001b[0;32m   3809\u001b[0m         \u001b[39m#  the TypeError.\u001b[39;00m\n\u001b[1;32m-> 3810\u001b[0m         \u001b[39mself\u001b[39;49m\u001b[39m.\u001b[39;49m_check_indexing_error(key)\n\u001b[0;32m   3811\u001b[0m         \u001b[39mraise\u001b[39;00m\n\u001b[0;32m   3813\u001b[0m \u001b[39m# GH#42269\u001b[39;00m\n",
      "File \u001b[1;32mc:\\Users\\Mikkel Groengaard\\anaconda3\\envs\\chatbot\\lib\\site-packages\\pandas\\core\\indexes\\base.py:5966\u001b[0m, in \u001b[0;36mIndex._check_indexing_error\u001b[1;34m(self, key)\u001b[0m\n\u001b[0;32m   5962\u001b[0m \u001b[39mdef\u001b[39;00m \u001b[39m_check_indexing_error\u001b[39m(\u001b[39mself\u001b[39m, key):\n\u001b[0;32m   5963\u001b[0m     \u001b[39mif\u001b[39;00m \u001b[39mnot\u001b[39;00m is_scalar(key):\n\u001b[0;32m   5964\u001b[0m         \u001b[39m# if key is not a scalar, directly raise an error (the code below\u001b[39;00m\n\u001b[0;32m   5965\u001b[0m         \u001b[39m# would convert to numpy arrays and raise later any way) - GH29926\u001b[39;00m\n\u001b[1;32m-> 5966\u001b[0m         \u001b[39mraise\u001b[39;00m InvalidIndexError(key)\n",
      "\u001b[1;31mInvalidIndexError\u001b[0m: (slice(None, None, None), 2)"
     ]
    }
   ],
   "source": [
    "#print(data_100_A_2[:,2].var()-data_100[:,2].var())\n",
    "\n",
    "print(data_100_A_2[:,2].var())\n",
    "print(data_100_A_2[:,2])\n",
    "\n",
    "#print(data_100_A_2[:,2])"
   ]
  },
  {
   "cell_type": "code",
   "execution_count": 9,
   "metadata": {},
   "outputs": [],
   "source": [
    "var_names = ['None','A','B','C','D','E','F']\n",
    "mean_names = var_names.copy()\n",
    "\n"
   ]
  },
  {
   "cell_type": "code",
   "execution_count": 12,
   "metadata": {},
   "outputs": [],
   "source": [
    "df = data_100_A_2"
   ]
  },
  {
   "cell_type": "code",
   "execution_count": 16,
   "metadata": {},
   "outputs": [
    {
     "name": "stdout",
     "output_type": "stream",
     "text": [
      "3.1298880301039693\n"
     ]
    }
   ],
   "source": [
    "data_100_A_2 = pd.read_csv(\"data_784.csv\")\n",
    "print(data_100_A_2['B'].var())"
   ]
  }
 ],
 "metadata": {
  "kernelspec": {
   "display_name": "chatbot",
   "language": "python",
   "name": "python3"
  },
  "language_info": {
   "codemirror_mode": {
    "name": "ipython",
    "version": 3
   },
   "file_extension": ".py",
   "mimetype": "text/x-python",
   "name": "python",
   "nbconvert_exporter": "python",
   "pygments_lexer": "ipython3",
   "version": "3.10.6"
  },
  "orig_nbformat": 4
 },
 "nbformat": 4,
 "nbformat_minor": 2
}
